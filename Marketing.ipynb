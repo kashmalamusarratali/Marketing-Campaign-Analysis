{
  "nbformat": 4,
  "nbformat_minor": 0,
  "metadata": {
    "colab": {
      "name": "Marketing.ipynb",
      "provenance": []
    },
    "kernelspec": {
      "name": "python3",
      "display_name": "Python 3"
    },
    "language_info": {
      "name": "python"
    }
  },
  "cells": [
    {
      "cell_type": "markdown",
      "source": [
        "# **Import Libraries**\n",
        "\n"
      ],
      "metadata": {
        "id": "FVZpT3efWgSF"
      }
    },
    {
      "cell_type": "code",
      "execution_count": null,
      "metadata": {
        "id": "J5BN-Wm6UY92"
      },
      "outputs": [],
      "source": [
        "# Import pandas into the environment\n",
        "import pandas as pd\n",
        "import numpy as np\n",
        "import matplotlib.pyplot as plt\n",
        "\n"
      ]
    },
    {
      "cell_type": "markdown",
      "source": [
        "# **Data Analysis**"
      ],
      "metadata": {
        "id": "n4gLUhDeWpGe"
      }
    },
    {
      "cell_type": "code",
      "source": [
        "# Import marketing.csv \n",
        "marketing = pd.read_csv('/content/marketing.csv')\n",
        "marketing"
      ],
      "metadata": {
        "colab": {
          "base_uri": "https://localhost:8080/",
          "height": 574
        },
        "id": "POR-PakhUn94",
        "outputId": "cd69c6a7-e582-4598-f18f-86034cd66da3"
      },
      "execution_count": null,
      "outputs": [
        {
          "output_type": "execute_result",
          "data": {
            "text/plain": [
              "          user_id date_served marketing_channel          variant converted  \\\n",
              "0      a100000029      1/1/18         House Ads  personalization      True   \n",
              "1      a100000030      1/1/18         House Ads  personalization      True   \n",
              "2      a100000031      1/1/18         House Ads  personalization      True   \n",
              "3      a100000032      1/1/18         House Ads  personalization      True   \n",
              "4      a100000033      1/1/18         House Ads  personalization      True   \n",
              "...           ...         ...               ...              ...       ...   \n",
              "10032  a100007290     1/17/18             Email          control      True   \n",
              "10033  a100007291     1/17/18             Email          control      True   \n",
              "10034  a100007292      1/5/18         Instagram          control     False   \n",
              "10035  a100007293     1/17/18             Email          control      True   \n",
              "10036  a100007294      1/6/18          Facebook          control     False   \n",
              "\n",
              "      language_displayed language_preferred    age_group date_subscribed  \\\n",
              "0                English            English   0-18 years          1/1/18   \n",
              "1                English            English  19-24 years          1/1/18   \n",
              "2                English            English  24-30 years          1/1/18   \n",
              "3                English            English  30-36 years          1/1/18   \n",
              "4                English            English  36-45 years          1/1/18   \n",
              "...                  ...                ...          ...             ...   \n",
              "10032             German             German  45-55 years         1/17/18   \n",
              "10033             German             German    55+ years         1/17/18   \n",
              "10034             German             German    55+ years         1/17/18   \n",
              "10035             German             German   0-18 years         1/17/18   \n",
              "10036             German             German   0-18 years         1/17/18   \n",
              "\n",
              "      date_canceled subscribing_channel is_retained  \n",
              "0               NaN           House Ads        True  \n",
              "1               NaN           House Ads        True  \n",
              "2               NaN           House Ads        True  \n",
              "3               NaN           House Ads        True  \n",
              "4               NaN           House Ads        True  \n",
              "...             ...                 ...         ...  \n",
              "10032       1/24/18               Email       False  \n",
              "10033           NaN               Email        True  \n",
              "10034           NaN               Email        True  \n",
              "10035           NaN               Email        True  \n",
              "10036           NaN               Email        True  \n",
              "\n",
              "[10037 rows x 12 columns]"
            ],
            "text/html": [
              "\n",
              "  <div id=\"df-db159f9d-6905-454e-b6c1-c6bad8ff34a1\">\n",
              "    <div class=\"colab-df-container\">\n",
              "      <div>\n",
              "<style scoped>\n",
              "    .dataframe tbody tr th:only-of-type {\n",
              "        vertical-align: middle;\n",
              "    }\n",
              "\n",
              "    .dataframe tbody tr th {\n",
              "        vertical-align: top;\n",
              "    }\n",
              "\n",
              "    .dataframe thead th {\n",
              "        text-align: right;\n",
              "    }\n",
              "</style>\n",
              "<table border=\"1\" class=\"dataframe\">\n",
              "  <thead>\n",
              "    <tr style=\"text-align: right;\">\n",
              "      <th></th>\n",
              "      <th>user_id</th>\n",
              "      <th>date_served</th>\n",
              "      <th>marketing_channel</th>\n",
              "      <th>variant</th>\n",
              "      <th>converted</th>\n",
              "      <th>language_displayed</th>\n",
              "      <th>language_preferred</th>\n",
              "      <th>age_group</th>\n",
              "      <th>date_subscribed</th>\n",
              "      <th>date_canceled</th>\n",
              "      <th>subscribing_channel</th>\n",
              "      <th>is_retained</th>\n",
              "    </tr>\n",
              "  </thead>\n",
              "  <tbody>\n",
              "    <tr>\n",
              "      <th>0</th>\n",
              "      <td>a100000029</td>\n",
              "      <td>1/1/18</td>\n",
              "      <td>House Ads</td>\n",
              "      <td>personalization</td>\n",
              "      <td>True</td>\n",
              "      <td>English</td>\n",
              "      <td>English</td>\n",
              "      <td>0-18 years</td>\n",
              "      <td>1/1/18</td>\n",
              "      <td>NaN</td>\n",
              "      <td>House Ads</td>\n",
              "      <td>True</td>\n",
              "    </tr>\n",
              "    <tr>\n",
              "      <th>1</th>\n",
              "      <td>a100000030</td>\n",
              "      <td>1/1/18</td>\n",
              "      <td>House Ads</td>\n",
              "      <td>personalization</td>\n",
              "      <td>True</td>\n",
              "      <td>English</td>\n",
              "      <td>English</td>\n",
              "      <td>19-24 years</td>\n",
              "      <td>1/1/18</td>\n",
              "      <td>NaN</td>\n",
              "      <td>House Ads</td>\n",
              "      <td>True</td>\n",
              "    </tr>\n",
              "    <tr>\n",
              "      <th>2</th>\n",
              "      <td>a100000031</td>\n",
              "      <td>1/1/18</td>\n",
              "      <td>House Ads</td>\n",
              "      <td>personalization</td>\n",
              "      <td>True</td>\n",
              "      <td>English</td>\n",
              "      <td>English</td>\n",
              "      <td>24-30 years</td>\n",
              "      <td>1/1/18</td>\n",
              "      <td>NaN</td>\n",
              "      <td>House Ads</td>\n",
              "      <td>True</td>\n",
              "    </tr>\n",
              "    <tr>\n",
              "      <th>3</th>\n",
              "      <td>a100000032</td>\n",
              "      <td>1/1/18</td>\n",
              "      <td>House Ads</td>\n",
              "      <td>personalization</td>\n",
              "      <td>True</td>\n",
              "      <td>English</td>\n",
              "      <td>English</td>\n",
              "      <td>30-36 years</td>\n",
              "      <td>1/1/18</td>\n",
              "      <td>NaN</td>\n",
              "      <td>House Ads</td>\n",
              "      <td>True</td>\n",
              "    </tr>\n",
              "    <tr>\n",
              "      <th>4</th>\n",
              "      <td>a100000033</td>\n",
              "      <td>1/1/18</td>\n",
              "      <td>House Ads</td>\n",
              "      <td>personalization</td>\n",
              "      <td>True</td>\n",
              "      <td>English</td>\n",
              "      <td>English</td>\n",
              "      <td>36-45 years</td>\n",
              "      <td>1/1/18</td>\n",
              "      <td>NaN</td>\n",
              "      <td>House Ads</td>\n",
              "      <td>True</td>\n",
              "    </tr>\n",
              "    <tr>\n",
              "      <th>...</th>\n",
              "      <td>...</td>\n",
              "      <td>...</td>\n",
              "      <td>...</td>\n",
              "      <td>...</td>\n",
              "      <td>...</td>\n",
              "      <td>...</td>\n",
              "      <td>...</td>\n",
              "      <td>...</td>\n",
              "      <td>...</td>\n",
              "      <td>...</td>\n",
              "      <td>...</td>\n",
              "      <td>...</td>\n",
              "    </tr>\n",
              "    <tr>\n",
              "      <th>10032</th>\n",
              "      <td>a100007290</td>\n",
              "      <td>1/17/18</td>\n",
              "      <td>Email</td>\n",
              "      <td>control</td>\n",
              "      <td>True</td>\n",
              "      <td>German</td>\n",
              "      <td>German</td>\n",
              "      <td>45-55 years</td>\n",
              "      <td>1/17/18</td>\n",
              "      <td>1/24/18</td>\n",
              "      <td>Email</td>\n",
              "      <td>False</td>\n",
              "    </tr>\n",
              "    <tr>\n",
              "      <th>10033</th>\n",
              "      <td>a100007291</td>\n",
              "      <td>1/17/18</td>\n",
              "      <td>Email</td>\n",
              "      <td>control</td>\n",
              "      <td>True</td>\n",
              "      <td>German</td>\n",
              "      <td>German</td>\n",
              "      <td>55+ years</td>\n",
              "      <td>1/17/18</td>\n",
              "      <td>NaN</td>\n",
              "      <td>Email</td>\n",
              "      <td>True</td>\n",
              "    </tr>\n",
              "    <tr>\n",
              "      <th>10034</th>\n",
              "      <td>a100007292</td>\n",
              "      <td>1/5/18</td>\n",
              "      <td>Instagram</td>\n",
              "      <td>control</td>\n",
              "      <td>False</td>\n",
              "      <td>German</td>\n",
              "      <td>German</td>\n",
              "      <td>55+ years</td>\n",
              "      <td>1/17/18</td>\n",
              "      <td>NaN</td>\n",
              "      <td>Email</td>\n",
              "      <td>True</td>\n",
              "    </tr>\n",
              "    <tr>\n",
              "      <th>10035</th>\n",
              "      <td>a100007293</td>\n",
              "      <td>1/17/18</td>\n",
              "      <td>Email</td>\n",
              "      <td>control</td>\n",
              "      <td>True</td>\n",
              "      <td>German</td>\n",
              "      <td>German</td>\n",
              "      <td>0-18 years</td>\n",
              "      <td>1/17/18</td>\n",
              "      <td>NaN</td>\n",
              "      <td>Email</td>\n",
              "      <td>True</td>\n",
              "    </tr>\n",
              "    <tr>\n",
              "      <th>10036</th>\n",
              "      <td>a100007294</td>\n",
              "      <td>1/6/18</td>\n",
              "      <td>Facebook</td>\n",
              "      <td>control</td>\n",
              "      <td>False</td>\n",
              "      <td>German</td>\n",
              "      <td>German</td>\n",
              "      <td>0-18 years</td>\n",
              "      <td>1/17/18</td>\n",
              "      <td>NaN</td>\n",
              "      <td>Email</td>\n",
              "      <td>True</td>\n",
              "    </tr>\n",
              "  </tbody>\n",
              "</table>\n",
              "<p>10037 rows × 12 columns</p>\n",
              "</div>\n",
              "      <button class=\"colab-df-convert\" onclick=\"convertToInteractive('df-db159f9d-6905-454e-b6c1-c6bad8ff34a1')\"\n",
              "              title=\"Convert this dataframe to an interactive table.\"\n",
              "              style=\"display:none;\">\n",
              "        \n",
              "  <svg xmlns=\"http://www.w3.org/2000/svg\" height=\"24px\"viewBox=\"0 0 24 24\"\n",
              "       width=\"24px\">\n",
              "    <path d=\"M0 0h24v24H0V0z\" fill=\"none\"/>\n",
              "    <path d=\"M18.56 5.44l.94 2.06.94-2.06 2.06-.94-2.06-.94-.94-2.06-.94 2.06-2.06.94zm-11 1L8.5 8.5l.94-2.06 2.06-.94-2.06-.94L8.5 2.5l-.94 2.06-2.06.94zm10 10l.94 2.06.94-2.06 2.06-.94-2.06-.94-.94-2.06-.94 2.06-2.06.94z\"/><path d=\"M17.41 7.96l-1.37-1.37c-.4-.4-.92-.59-1.43-.59-.52 0-1.04.2-1.43.59L10.3 9.45l-7.72 7.72c-.78.78-.78 2.05 0 2.83L4 21.41c.39.39.9.59 1.41.59.51 0 1.02-.2 1.41-.59l7.78-7.78 2.81-2.81c.8-.78.8-2.07 0-2.86zM5.41 20L4 18.59l7.72-7.72 1.47 1.35L5.41 20z\"/>\n",
              "  </svg>\n",
              "      </button>\n",
              "      \n",
              "  <style>\n",
              "    .colab-df-container {\n",
              "      display:flex;\n",
              "      flex-wrap:wrap;\n",
              "      gap: 12px;\n",
              "    }\n",
              "\n",
              "    .colab-df-convert {\n",
              "      background-color: #E8F0FE;\n",
              "      border: none;\n",
              "      border-radius: 50%;\n",
              "      cursor: pointer;\n",
              "      display: none;\n",
              "      fill: #1967D2;\n",
              "      height: 32px;\n",
              "      padding: 0 0 0 0;\n",
              "      width: 32px;\n",
              "    }\n",
              "\n",
              "    .colab-df-convert:hover {\n",
              "      background-color: #E2EBFA;\n",
              "      box-shadow: 0px 1px 2px rgba(60, 64, 67, 0.3), 0px 1px 3px 1px rgba(60, 64, 67, 0.15);\n",
              "      fill: #174EA6;\n",
              "    }\n",
              "\n",
              "    [theme=dark] .colab-df-convert {\n",
              "      background-color: #3B4455;\n",
              "      fill: #D2E3FC;\n",
              "    }\n",
              "\n",
              "    [theme=dark] .colab-df-convert:hover {\n",
              "      background-color: #434B5C;\n",
              "      box-shadow: 0px 1px 3px 1px rgba(0, 0, 0, 0.15);\n",
              "      filter: drop-shadow(0px 1px 2px rgba(0, 0, 0, 0.3));\n",
              "      fill: #FFFFFF;\n",
              "    }\n",
              "  </style>\n",
              "\n",
              "      <script>\n",
              "        const buttonEl =\n",
              "          document.querySelector('#df-db159f9d-6905-454e-b6c1-c6bad8ff34a1 button.colab-df-convert');\n",
              "        buttonEl.style.display =\n",
              "          google.colab.kernel.accessAllowed ? 'block' : 'none';\n",
              "\n",
              "        async function convertToInteractive(key) {\n",
              "          const element = document.querySelector('#df-db159f9d-6905-454e-b6c1-c6bad8ff34a1');\n",
              "          const dataTable =\n",
              "            await google.colab.kernel.invokeFunction('convertToInteractive',\n",
              "                                                     [key], {});\n",
              "          if (!dataTable) return;\n",
              "\n",
              "          const docLinkHtml = 'Like what you see? Visit the ' +\n",
              "            '<a target=\"_blank\" href=https://colab.research.google.com/notebooks/data_table.ipynb>data table notebook</a>'\n",
              "            + ' to learn more about interactive tables.';\n",
              "          element.innerHTML = '';\n",
              "          dataTable['output_type'] = 'display_data';\n",
              "          await google.colab.output.renderOutput(dataTable, element);\n",
              "          const docLink = document.createElement('div');\n",
              "          docLink.innerHTML = docLinkHtml;\n",
              "          element.appendChild(docLink);\n",
              "        }\n",
              "      </script>\n",
              "    </div>\n",
              "  </div>\n",
              "  "
            ]
          },
          "metadata": {},
          "execution_count": 7
        }
      ]
    },
    {
      "cell_type": "code",
      "source": [
        "# Print the statistics of all columns\n",
        "print(marketing.describe())"
      ],
      "metadata": {
        "colab": {
          "base_uri": "https://localhost:8080/"
        },
        "id": "5ilZ5K7cU_DQ",
        "outputId": "9d8d5949-6777-4541-bbbc-5fce4c960f7b"
      },
      "execution_count": null,
      "outputs": [
        {
          "output_type": "stream",
          "name": "stdout",
          "text": [
            "           user_id date_served marketing_channel  variant converted  \\\n",
            "count        10037       10021             10022    10037     10022   \n",
            "unique        7309          31                 5        2         2   \n",
            "top     a100000882     1/15/18         House Ads  control     False   \n",
            "freq            12         789              4733     5091      8946   \n",
            "\n",
            "       language_displayed language_preferred    age_group date_subscribed  \\\n",
            "count               10037              10037        10037            1856   \n",
            "unique                  4                  4            7              31   \n",
            "top               English            English  19-24 years         1/16/18   \n",
            "freq                 9793               9275         1682             163   \n",
            "\n",
            "       date_canceled subscribing_channel is_retained  \n",
            "count            577                1856        1856  \n",
            "unique           115                   5           2  \n",
            "top           4/2/18           Instagram        True  \n",
            "freq              15                 600        1279  \n"
          ]
        }
      ]
    },
    {
      "cell_type": "code",
      "source": [
        "# Check column data types and non-missing values\n",
        "print(marketing.info())"
      ],
      "metadata": {
        "colab": {
          "base_uri": "https://localhost:8080/"
        },
        "id": "CZHXfQplVNnf",
        "outputId": "50540c41-fb77-4edc-f7bf-7d8aaf5b3c0d"
      },
      "execution_count": null,
      "outputs": [
        {
          "output_type": "stream",
          "name": "stdout",
          "text": [
            "<class 'pandas.core.frame.DataFrame'>\n",
            "RangeIndex: 10037 entries, 0 to 10036\n",
            "Data columns (total 12 columns):\n",
            " #   Column               Non-Null Count  Dtype \n",
            "---  ------               --------------  ----- \n",
            " 0   user_id              10037 non-null  object\n",
            " 1   date_served          10021 non-null  object\n",
            " 2   marketing_channel    10022 non-null  object\n",
            " 3   variant              10037 non-null  object\n",
            " 4   converted            10022 non-null  object\n",
            " 5   language_displayed   10037 non-null  object\n",
            " 6   language_preferred   10037 non-null  object\n",
            " 7   age_group            10037 non-null  object\n",
            " 8   date_subscribed      1856 non-null   object\n",
            " 9   date_canceled        577 non-null    object\n",
            " 10  subscribing_channel  1856 non-null   object\n",
            " 11  is_retained          1856 non-null   object\n",
            "dtypes: object(12)\n",
            "memory usage: 941.1+ KB\n",
            "None\n"
          ]
        }
      ]
    },
    {
      "cell_type": "markdown",
      "source": [
        "# **Updating the data type of a column**"
      ],
      "metadata": {
        "id": "_feJSx7AWZk0"
      }
    },
    {
      "cell_type": "code",
      "source": [
        "# Check the data type of is_retained\n",
        "print(marketing['is_retained'].dtype)"
      ],
      "metadata": {
        "colab": {
          "base_uri": "https://localhost:8080/"
        },
        "id": "rBITXJcAWd5f",
        "outputId": "52cf09f8-c4d6-4e61-83be-f26a4ad48d90"
      },
      "execution_count": null,
      "outputs": [
        {
          "output_type": "stream",
          "name": "stdout",
          "text": [
            "object\n"
          ]
        }
      ]
    },
    {
      "cell_type": "code",
      "source": [
        "# Convert is_retained to a boolean\n",
        "marketing['is_retained'] = marketing['is_retained'].astype(\"bool\")\n",
        "\n",
        "# Check the data type of is_retained, again\n",
        "print(marketing['is_retained'].dtype)"
      ],
      "metadata": {
        "colab": {
          "base_uri": "https://localhost:8080/"
        },
        "id": "bCdRXu4JXBxn",
        "outputId": "eba7e7a1-79c2-4e4c-9fb0-fb813ad3c2d3"
      },
      "execution_count": null,
      "outputs": [
        {
          "output_type": "stream",
          "name": "stdout",
          "text": [
            "bool\n"
          ]
        }
      ]
    },
    {
      "cell_type": "markdown",
      "source": [
        "# **Adding new columns**"
      ],
      "metadata": {
        "id": "Tmg5F15yXWLh"
      }
    },
    {
      "cell_type": "code",
      "source": [
        "channel_dict = {\"House Ads\": 1, \"Instagram\": 2, \n",
        "                \"Facebook\": 3, \"Email\": 4, \"Push\": 5}\n",
        "\n",
        "# Map the channel to a channel code\n",
        "marketing['channel_code'] = marketing['subscribing_channel'].map(channel_dict)"
      ],
      "metadata": {
        "id": "Ral5z3CJXYgV"
      },
      "execution_count": null,
      "outputs": []
    },
    {
      "cell_type": "code",
      "source": [
        "# Add the new column is_correct_lang\n",
        "marketing['is_correct_lang'] = np.where(\n",
        "    marketing['language_preferred'] == marketing['language_displayed'], \n",
        "    'Yes', \n",
        "    'No'\n",
        ")"
      ],
      "metadata": {
        "id": "DyWlp2wfZaRs"
      },
      "execution_count": null,
      "outputs": []
    },
    {
      "cell_type": "markdown",
      "source": [
        "# **Conversion of columns in DateTime Format**"
      ],
      "metadata": {
        "id": "NmhdOW9RdqkO"
      }
    },
    {
      "cell_type": "code",
      "source": [
        "marketing.date_served = pd.to_datetime(marketing.date_served)\n",
        "marketing.date_subscribed = pd.to_datetime(marketing.date_subscribed)\n",
        "marketing.date_canceled = pd.to_datetime(marketing.date_canceled)"
      ],
      "metadata": {
        "id": "HhAx--rFcms0"
      },
      "execution_count": null,
      "outputs": []
    },
    {
      "cell_type": "code",
      "source": [
        "# Add a DoW column\n",
        "marketing['DoW'] = marketing['date_subscribed'].dt.dayofweek"
      ],
      "metadata": {
        "id": "39hwyRaRdxjY"
      },
      "execution_count": null,
      "outputs": []
    },
    {
      "cell_type": "markdown",
      "source": [
        "# **Daily marketing reach by channel**\n"
      ],
      "metadata": {
        "id": "dMUd9XfTlr5D"
      }
    },
    {
      "cell_type": "code",
      "source": [
        "# Group by date_served and count number of unique user_id's\n",
        "daily_users = marketing.groupby(['date_served'])['user_id'].nunique()\n",
        "\n",
        "# Print head of daily_users\n",
        "print(daily_users.head())"
      ],
      "metadata": {
        "colab": {
          "base_uri": "https://localhost:8080/"
        },
        "id": "euSoJADAl0R-",
        "outputId": "696377c2-9859-4457-d19a-663b9b5512be"
      },
      "execution_count": null,
      "outputs": [
        {
          "output_type": "stream",
          "name": "stdout",
          "text": [
            "date_served\n",
            "2018-01-01    362\n",
            "2018-01-02    374\n",
            "2018-01-03    348\n",
            "2018-01-04    323\n",
            "2018-01-05    319\n",
            "Name: user_id, dtype: int64\n"
          ]
        }
      ]
    },
    {
      "cell_type": "markdown",
      "source": [
        "# **Visualizing daily marketing reach**"
      ],
      "metadata": {
        "id": "BuWaR8b8mayg"
      }
    },
    {
      "cell_type": "code",
      "source": [
        "# Plot daily_subscribers\n",
        "daily_users.plot()\n",
        "\n",
        "# Include a title and y-axis label\n",
        "plt.title('Daily users')\n",
        "plt.ylabel('Number of users')\n",
        "\n",
        "# Rotate the x-axis labels by 45 degrees\n",
        "plt.xticks(rotation = 45)\n",
        "\n",
        "# Display the plot\n",
        "plt.show()"
      ],
      "metadata": {
        "colab": {
          "base_uri": "https://localhost:8080/",
          "height": 336
        },
        "id": "a1Xmu9Ntmc3X",
        "outputId": "d1fe4c98-4662-4c91-e005-32bcbc91fdb3"
      },
      "execution_count": null,
      "outputs": [
        {
          "output_type": "display_data",
          "data": {
            "text/plain": [
              "<Figure size 432x288 with 1 Axes>"
            ],
            "image/png": "[encoded data removed]"
          },
          "metadata": {
            "needs_background": "light"
          }
        }
      ]
    },
    {
      "cell_type": "markdown",
      "source": [
        "# **Calculating conversion rate**"
      ],
      "metadata": {
        "id": "ga7_T45dtfY3"
      }
    },
    {
      "cell_type": "code",
      "source": [
        "# Calculate the number of people we marketed to\n",
        "total = marketing[\"user_id\"].nunique()\n",
        "\n",
        "# Calculate the number of people who subscribed\n",
        "subscribers = marketing[marketing[\"converted\"] == True]['user_id'].nunique()\n",
        "\n",
        "# Calculate the conversion rate\n",
        "conversion_rate = subscribers/total\n",
        "print(round(conversion_rate*100, 2), \"%\")"
      ],
      "metadata": {
        "colab": {
          "base_uri": "https://localhost:8080/"
        },
        "id": "SOnrfbnZtjYn",
        "outputId": "72eb1723-3b54-4b88-b40e-258e1e732506"
      },
      "execution_count": null,
      "outputs": [
        {
          "output_type": "stream",
          "name": "stdout",
          "text": [
            "13.89 %\n"
          ]
        }
      ]
    },
    {
      "cell_type": "markdown",
      "source": [
        "# **Calculating retention rate**"
      ],
      "metadata": {
        "id": "QiAa4suFmzsy"
      }
    },
    {
      "cell_type": "code",
      "source": [
        "# Calculate the number of subscribers\n",
        "total_subscribers = marketing[marketing[\"converted\"] == True]['user_id'].nunique()\n",
        "\n",
        "# Calculate the number of people who remained subscribed\n",
        "retained = marketing[marketing[\"is_retained\"]== True][\"user_id\"].nunique()\n",
        "\n",
        "# Calculate the retention rate\n",
        "retention_rate = retained/total_subscribers\n",
        "print(round(retention_rate*100, 2), \"%\")"
      ],
      "metadata": {
        "colab": {
          "base_uri": "https://localhost:8080/"
        },
        "id": "PZsJUjgAm3k9",
        "outputId": "7d4902d9-a8f8-4877-d41e-206b42701914"
      },
      "execution_count": null,
      "outputs": [
        {
          "output_type": "stream",
          "name": "stdout",
          "text": [
            "686.4 %\n"
          ]
        }
      ]
    },
    {
      "cell_type": "markdown",
      "source": [
        "# **Comparing language conversion rate (I)**"
      ],
      "metadata": {
        "id": "CMVkgU6zw1Kr"
      }
    },
    {
      "cell_type": "code",
      "source": [
        "# Isolate english speakers\n",
        "english_speakers = marketing[marketing['language_displayed'] == 'English']\n",
        "\n",
        "# Calculate the total number of English speaking users\n",
        "total = english_speakers[\"user_id\"].nunique()\n",
        "\n",
        "# Calculate the number of English speakers who converted\n",
        "subscribers = english_speakers[english_speakers[\"converted\"] == True][\"user_id\"].nunique()\n",
        "\n",
        "# Calculate conversion rate\n",
        "conversion_rate = subscribers/total\n",
        "print('English speaker conversion rate:', round(conversion_rate*100,2), '%')"
      ],
      "metadata": {
        "colab": {
          "base_uri": "https://localhost:8080/"
        },
        "id": "RHp7cCVJw3JN",
        "outputId": "34a9d6f8-d78f-4cc0-ec00-f1386701231f"
      },
      "execution_count": null,
      "outputs": [
        {
          "output_type": "stream",
          "name": "stdout",
          "text": [
            "English speaker conversion rate: 12.92 %\n"
          ]
        }
      ]
    },
    {
      "cell_type": "markdown",
      "source": [
        "# **Comparing language conversion rate (II)**"
      ],
      "metadata": {
        "id": "tpQmQwqhznTF"
      }
    },
    {
      "cell_type": "code",
      "source": [
        "# Group by language_displayed and count unique users\n",
        "total = marketing.groupby(\"language_displayed\")[\"user_id\"].nunique()\n",
        "\n",
        "# Group by language_displayed and count unique conversions\n",
        "subscribers = marketing[marketing[\"converted\"]== True].groupby(\"language_displayed\")[\"user_id\"].nunique()\n",
        "\n",
        "# Calculate the conversion rate for all languages\n",
        "language_conversion_rate = subscribers/total\n",
        "print(language_conversion_rate)"
      ],
      "metadata": {
        "colab": {
          "base_uri": "https://localhost:8080/"
        },
        "id": "6ybtrri-zqgf",
        "outputId": "5f4e657e-843d-4ade-d302-1c613e3e9872"
      },
      "execution_count": null,
      "outputs": [
        {
          "output_type": "stream",
          "name": "stdout",
          "text": [
            "language_displayed\n",
            "Arabic     0.500000\n",
            "English    0.129167\n",
            "German     0.716216\n",
            "Spanish    0.200000\n",
            "Name: user_id, dtype: float64\n"
          ]
        }
      ]
    },
    {
      "cell_type": "markdown",
      "source": [
        "# **Aggregating by date**"
      ],
      "metadata": {
        "id": "rBsi6s_v0JBN"
      }
    },
    {
      "cell_type": "code",
      "source": [
        "# Group by date_served and count unique users\n",
        "total = marketing.groupby(\"date_served\")[\"user_id\"].nunique()\n",
        "\n",
        "# Group by date_served and count unique converted users\n",
        "subscribers = marketing[marketing[\"converted\"]== True].groupby(\"date_served\")[\"user_id\"].nunique()\n",
        "\n",
        "# Calculate the conversion rate per day\n",
        "daily_conversion_rate = subscribers/total\n",
        "print(daily_conversion_rate)\n"
      ],
      "metadata": {
        "colab": {
          "base_uri": "https://localhost:8080/"
        },
        "id": "5cbsBV3k0LIU",
        "outputId": "6ad54b16-8bf5-4e18-8f53-900e385a974d"
      },
      "execution_count": null,
      "outputs": [
        {
          "output_type": "stream",
          "name": "stdout",
          "text": [
            "date_served\n",
            "2018-01-01    0.099448\n",
            "2018-01-02    0.098930\n",
            "2018-01-03    0.103448\n",
            "2018-01-04    0.108359\n",
            "2018-01-05    0.125392\n",
            "2018-01-06    0.113636\n",
            "2018-01-07    0.141818\n",
            "2018-01-08    0.115385\n",
            "2018-01-09    0.125000\n",
            "2018-01-10    0.118694\n",
            "2018-01-11    0.080645\n",
            "2018-01-12    0.076412\n",
            "2018-01-13    0.084967\n",
            "2018-01-14    0.085246\n",
            "2018-01-15    0.113429\n",
            "2018-01-16    0.255155\n",
            "2018-01-17    0.219512\n",
            "2018-01-18    0.091195\n",
            "2018-01-19    0.059016\n",
            "2018-01-20    0.067524\n",
            "2018-01-21    0.087336\n",
            "2018-01-22    0.123596\n",
            "2018-01-23    0.122093\n",
            "2018-01-24    0.115789\n",
            "2018-01-25    0.125000\n",
            "2018-01-26    0.090090\n",
            "2018-01-27    0.065625\n",
            "2018-01-28    0.062500\n",
            "2018-01-29    0.059561\n",
            "2018-01-30    0.066246\n",
            "2018-01-31    0.052941\n",
            "Name: user_id, dtype: float64\n"
          ]
        }
      ]
    },
    {
      "cell_type": "markdown",
      "source": [
        "# **Visualize conversion rate by language**"
      ],
      "metadata": {
        "id": "SKrbIyc106lQ"
      }
    },
    {
      "cell_type": "code",
      "source": [
        "# Create a bar chart using language_conversion_rate DataFrame\n",
        "language_conversion_rate.plot(kind = \"bar\")\n",
        "\n",
        "# Add a title and x and y-axis labels\n",
        "plt.title('Conversion rate by language\\n', size = 16)\n",
        "plt.xlabel('Language', size = 14)\n",
        "plt.ylabel('Conversion rate (%)', size = 14)\n",
        "\n",
        "# Display the plot\n",
        "plt.show()"
      ],
      "metadata": {
        "colab": {
          "base_uri": "https://localhost:8080/",
          "height": 349
        },
        "id": "zK3lpW3q08rN",
        "outputId": "70f9bfec-fdd6-4d66-b49c-c5d93aa0ad35"
      },
      "execution_count": null,
      "outputs": [
        {
          "output_type": "display_data",
          "data": {
            "text/plain": [
              "<Figure size 432x288 with 1 Axes>"
            ],
            "image/png": "[encoded data removed]"
          },
          "metadata": {
            "needs_background": "light"
          }
        }
      ]
    },
    {
      "cell_type": "markdown",
      "source": [
        "# **Setting up our data to visualize daily conversion**"
      ],
      "metadata": {
        "id": "1fzc1PGh3KbB"
      }
    },
    {
      "cell_type": "code",
      "source": [
        "# Reset index to turn the results into a DataFrame\n",
        "daily_conversion_rates = pd.DataFrame(daily_conversion_rate.reset_index())\n",
        "\n",
        "# Rename columns\n",
        "daily_conversion_rates.columns = ['date_served', \n",
        "                              'conversion_rate']"
      ],
      "metadata": {
        "id": "Mkn3OVcM3Miw"
      },
      "execution_count": null,
      "outputs": []
    },
    {
      "cell_type": "markdown",
      "source": [
        "# **Visualize daily conversion rate**"
      ],
      "metadata": {
        "id": "DRcrAukE4gcF"
      }
    },
    {
      "cell_type": "code",
      "source": [
        "# Create a line chart using daily_conversion_rate\n",
        "daily_conversion_rates.plot(\"date_served\", \"conversion_rate\")\n",
        "\n",
        "plt.title('Daily conversion rate\\n', size = 16)\n",
        "plt.ylabel('Conversion rate (%)', size = 14)\n",
        "plt.xlabel('Date', size = 14)\n",
        "\n",
        "# Set the y-axis to begin at 0\n",
        "plt.ylim(0)\n",
        "\n",
        "# Display the plot\n",
        "plt.show()"
      ],
      "metadata": {
        "colab": {
          "base_uri": "https://localhost:8080/",
          "height": 354
        },
        "id": "vHtGXgnF4g1U",
        "outputId": "d986ec4b-6074-4a2f-bf51-aa61289b0490"
      },
      "execution_count": null,
      "outputs": [
        {
          "output_type": "display_data",
          "data": {
            "text/plain": [
              "<Figure size 432x288 with 1 Axes>"
            ],
            "image/png": "[encoded data removed]"
          },
          "metadata": {
            "needs_background": "light"
          }
        }
      ]
    },
    {
      "cell_type": "markdown",
      "source": [
        "# **Marketing channels across age groups**"
      ],
      "metadata": {
        "id": "9kWJmzx56k19"
      }
    },
    {
      "cell_type": "code",
      "source": [
        "channel_age = marketing.groupby(['marketing_channel', 'age_group'])\\\n",
        "                                ['user_id'].count()\n",
        "\n",
        "# Unstack channel_age and transform it into a DataFrame\n",
        "channel_age_df = pd.DataFrame(channel_age.unstack(level =1))\n",
        "\n",
        "# Plot channel_age\n",
        "channel_age_df.plot(kind = 'bar')\n",
        "plt.title('Marketing channels by age group')\n",
        "plt.xlabel('Age Group')\n",
        "plt.ylabel('Users')\n",
        "# Add a legend to the plot\n",
        "plt.legend(loc = 'upper right', \n",
        "           labels = channel_age_df.columns.values)\n",
        "plt.show()"
      ],
      "metadata": {
        "colab": {
          "base_uri": "https://localhost:8080/",
          "height": 338
        },
        "id": "NAdPSwXC7yXm",
        "outputId": "6fbbcbfe-1a9d-4ed7-bf81-3f4d02ba7087"
      },
      "execution_count": null,
      "outputs": [
        {
          "output_type": "display_data",
          "data": {
            "text/plain": [
              "<Figure size 432x288 with 1 Axes>"
            ],
            "image/png": "[encoded data removed]"
          },
          "metadata": {
            "needs_background": "light"
          }
        }
      ]
    },
    {
      "cell_type": "markdown",
      "source": [
        "# **Grouping and counting by multiple columns**"
      ],
      "metadata": {
        "id": "CfDe-NOV73WX"
      }
    },
    {
      "cell_type": "code",
      "source": [
        "# Count the subs by subscribing channel and day\n",
        "retention_total = marketing.groupby(['date_subscribed',\n",
        "                                    \"subscribing_channel\"])[\"user_id\"].nunique()\n",
        "\n",
        "# Print results\n",
        "print(retention_total.head())\n"
      ],
      "metadata": {
        "colab": {
          "base_uri": "https://localhost:8080/"
        },
        "id": "KJYn_ick75qZ",
        "outputId": "376b5c45-03c6-407f-af73-4c500f5e0f60"
      },
      "execution_count": null,
      "outputs": [
        {
          "output_type": "stream",
          "name": "stdout",
          "text": [
            "date_subscribed  subscribing_channel\n",
            "2018-01-01       Email                   1\n",
            "                 Facebook                8\n",
            "                 House Ads              16\n",
            "                 Instagram               8\n",
            "                 Push                    3\n",
            "Name: user_id, dtype: int64\n"
          ]
        }
      ]
    },
    {
      "cell_type": "code",
      "source": [
        "# Sum the retained subs by subscribing channel and date subscribed\n",
        "retention_subs = marketing[marketing[\"is_retained\"]== True].groupby(['date_subscribed', \"subscribing_channel\"])[\"user_id\"].nunique()\n",
        "\n",
        "# Print results\n",
        "print(retention_subs.head())"
      ],
      "metadata": {
        "colab": {
          "base_uri": "https://localhost:8080/"
        },
        "id": "7Be__6sO8So7",
        "outputId": "3110738b-0110-4c88-95b8-05d2ff970a4a"
      },
      "execution_count": null,
      "outputs": [
        {
          "output_type": "stream",
          "name": "stdout",
          "text": [
            "date_subscribed  subscribing_channel\n",
            "2018-01-01       Email                   1\n",
            "                 Facebook                7\n",
            "                 House Ads              11\n",
            "                 Instagram               6\n",
            "                 Push                    3\n",
            "Name: user_id, dtype: int64\n"
          ]
        }
      ]
    },
    {
      "cell_type": "markdown",
      "source": [
        "# **Analyzing retention rates for the campaign**"
      ],
      "metadata": {
        "id": "STqN83Ys8tjn"
      }
    },
    {
      "cell_type": "code",
      "source": [
        "# Divide retained subscribers by total subscribers\n",
        "retention_rate = retention_subs/retention_total\n",
        "retention_rate_df = pd.DataFrame(retention_rate.unstack(level=1))\n",
        "\n",
        "# Plot retention rate\n",
        "retention_rate_df.plot()\n",
        "\n",
        "# Add a title, x-label, y-label, legend and display the plot\n",
        "plt.title('Retention Rate by Subscribing Channel')\n",
        "plt.xlabel('Date Subscribed')\n",
        "plt.ylabel('Retention Rate (%)')\n",
        "plt.legend(loc = \"upper right\",labels = retention_rate_df.columns.values)\n",
        "plt.show()"
      ],
      "metadata": {
        "colab": {
          "base_uri": "https://localhost:8080/",
          "height": 330
        },
        "id": "myqHOjt68vhs",
        "outputId": "e3c8cc04-8ad4-48f7-bb1c-8b89063d18c9"
      },
      "execution_count": null,
      "outputs": [
        {
          "output_type": "display_data",
          "data": {
            "text/plain": [
              "<Figure size 432x288 with 1 Axes>"
            ],
            "image/png": "[encoded data removed]"
          },
          "metadata": {
            "needs_background": "light"
          }
        }
      ]
    },
    {
      "cell_type": "markdown",
      "source": [
        "# **A/B Testing**"
      ],
      "metadata": {
        "id": "OYLzq7Zl9eLN"
      }
    },
    {
      "cell_type": "code",
      "source": [
        "# Subset the DataFrame\n",
        "email = marketing[marketing[\"marketing_channel\"]== \"Email\"]\n",
        "\n",
        "# Group the email DataFrame by variant \n",
        "alloc = email.groupby(\"variant\")[\"user_id\"].nunique()\n",
        "\n",
        "# Plot a bar chart of the test allocation\n",
        "alloc.plot(kind = \"bar\")\n",
        "plt.title('Personalization test allocation')\n",
        "plt.ylabel('# participants')\n",
        "plt.show()"
      ],
      "metadata": {
        "colab": {
          "base_uri": "https://localhost:8080/",
          "height": 362
        },
        "id": "WBsIL5EyRhtc",
        "outputId": "7248d6db-0828-4263-de51-d75a9ec0b8f7"
      },
      "execution_count": null,
      "outputs": [
        {
          "output_type": "display_data",
          "data": {
            "text/plain": [
              "<Figure size 432x288 with 1 Axes>"
            ],
            "image/png": "[encoded data removed]"
          },
          "metadata": {
            "needs_background": "light"
          }
        }
      ]
    },
    {
      "cell_type": "markdown",
      "source": [
        "# **Comparing conversion rates**"
      ],
      "metadata": {
        "id": "aykL2jwJRrGV"
      }
    },
    {
      "cell_type": "code",
      "source": [
        "# Group marketing by user_id and variant\n",
        "subscribers = email.groupby(['user_id', \n",
        "                             \"variant\"])[\"converted\"].max()\n",
        "subscribers_df = pd.DataFrame(subscribers.unstack(level=1)) \n",
        "\n",
        "# Drop missing values from the control column\n",
        "control = subscribers_df[\"control\"].dropna()\n",
        "\n",
        "# Drop missing values from the personalization column\n",
        "personalization = subscribers_df[\"personalization\"].dropna()\n",
        "\n",
        "print('Control conversion rate:', np.mean(control))\n",
        "print('Personalization conversion rate:', np.mean(personalization))"
      ],
      "metadata": {
        "colab": {
          "base_uri": "https://localhost:8080/"
        },
        "id": "asUDSRPYRv8U",
        "outputId": "f93750d2-368c-4339-a42f-c01f1273425c"
      },
      "execution_count": null,
      "outputs": [
        {
          "output_type": "stream",
          "name": "stdout",
          "text": [
            "Control conversion rate: 0.2814814814814815\n",
            "Personalization conversion rate: 0.3908450704225352\n"
          ]
        }
      ]
    },
    {
      "cell_type": "markdown",
      "source": [
        "# **Creating a lift function**"
      ],
      "metadata": {
        "id": "wtHPAfPYsX_B"
      }
    },
    {
      "cell_type": "code",
      "source": [
        "def lift(a,b):\n",
        "    # Calcuate the mean of a and b\n",
        "    a_mean = np.mean(a)\n",
        "    b_mean = np.mean(b)\n",
        "    \n",
        "    # Calculate the lift using a_mean and b_mean\n",
        "    lift = a_mean-b_mean/b_mean\n",
        "  \n",
        "    return str(round(lift*100, 2)) + '%'\n",
        "  \n",
        "# Print lift() with control and personalization as inputs\n",
        "print(lift(control, personalization))"
      ],
      "metadata": {
        "colab": {
          "base_uri": "https://localhost:8080/"
        },
        "id": "v8cNOR4xsh8j",
        "outputId": "6503f6ff-a836-4c54-e7ad-5c74ef14a612"
      },
      "execution_count": null,
      "outputs": [
        {
          "output_type": "stream",
          "name": "stdout",
          "text": [
            "-71.85%\n"
          ]
        }
      ]
    }
  ]
}